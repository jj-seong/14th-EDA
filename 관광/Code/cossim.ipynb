{
 "cells": [
  {
   "cell_type": "code",
   "execution_count": 18,
   "id": "befc7533",
   "metadata": {},
   "outputs": [],
   "source": [
    "import pandas as pd\n",
    "from sentence_transformers import SentenceTransformer\n",
    "from sklearn.metrics.pairwise import cosine_similarity\n",
    "import numpy as np"
   ]
  },
  {
   "cell_type": "code",
   "execution_count": 19,
   "id": "3dc28be9",
   "metadata": {},
   "outputs": [],
   "source": [
    "file_path = \"C:/Users/User/Vscode/EDA25-1/data/naver_map_reviews_top.csv\"\n",
    "df = pd.read_csv(file_path)"
   ]
  },
  {
   "cell_type": "code",
   "execution_count": 20,
   "id": "ba6b17c5",
   "metadata": {},
   "outputs": [],
   "source": [
    "model = SentenceTransformer('paraphrase-multilingual-MiniLM-L12-v2')"
   ]
  },
  {
   "cell_type": "code",
   "execution_count": 21,
   "id": "0973a918",
   "metadata": {},
   "outputs": [],
   "source": [
    "categories = ['자연', '역사', '문화', '레저스포츠', '쇼핑', '음식', '숙박']\n",
    "category_embeddings = model.encode(categories)"
   ]
  },
  {
   "cell_type": "code",
   "execution_count": 22,
   "id": "b367a648",
   "metadata": {},
   "outputs": [],
   "source": [
    "df['embedding'] = df['text'].apply(lambda x: model.encode(x))"
   ]
  },
  {
   "cell_type": "code",
   "execution_count": 23,
   "id": "717f4d95",
   "metadata": {},
   "outputs": [],
   "source": [
    "def calc_sim(emb):\n",
    "    return cosine_similarity([emb], category_embeddings)[0]\n",
    "\n",
    "df['similarities'] = df['embedding'].apply(calc_sim)"
   ]
  },
  {
   "cell_type": "code",
   "execution_count": null,
   "id": "d9796cd1",
   "metadata": {},
   "outputs": [],
   "source": [
    "place_sims = df.groupby('place')['similarities'].apply(\n",
    "    lambda x: np.mean(np.stack(x.to_list()), axis=0)\n",
    ")\n",
    "place_sims = pd.DataFrame(place_sims.tolist(), index=place_sims.index, columns=categories)\n",
    "\n",
    "def top2_keywords(row):\n",
    "    top_indices = np.argsort(row.values)[-2:][::-1]\n",
    "    return ', '.join([categories[i] for i in top_indices])\n",
    "\n",
    "place_sims['top_keywords'] = place_sims.apply(top2_keywords, axis=1)\n",
    "\n",
    "save_path = \"C:/Users/User/Vscode/EDA25-1/data/tourist_spot_top2_keywords.csv\"\n",
    "place_sims.to_csv(save_path, encoding='utf-8-sig')"
   ]
  }
 ],
 "metadata": {
  "kernelspec": {
   "display_name": "LLM_v2",
   "language": "python",
   "name": "python3"
  },
  "language_info": {
   "codemirror_mode": {
    "name": "ipython",
    "version": 3
   },
   "file_extension": ".py",
   "mimetype": "text/x-python",
   "name": "python",
   "nbconvert_exporter": "python",
   "pygments_lexer": "ipython3",
   "version": "3.10.18"
  }
 },
 "nbformat": 4,
 "nbformat_minor": 5
}
